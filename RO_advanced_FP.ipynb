{
 "cells": [
  {
   "cell_type": "markdown",
   "id": "southwest-remark",
   "metadata": {},
   "source": [
    "# Selection of more advanced FP topics  "
   ]
  },
  {
   "cell_type": "code",
   "execution_count": null,
   "id": "american-model",
   "metadata": {},
   "outputs": [],
   "source": [
    "#require \"fp\"\n",
    "open Base"
   ]
  },
  {
   "cell_type": "markdown",
   "id": "fifth-neighbor",
   "metadata": {},
   "source": [
    "## 1. Labelled & optional arguments"
   ]
  },
  {
   "cell_type": "markdown",
   "id": "sensitive-vision",
   "metadata": {},
   "source": [
    "### 1.1 Labelled arguments"
   ]
  },
  {
   "cell_type": "markdown",
   "id": "solved-tattoo",
   "metadata": {},
   "source": [
    "In OCaml, you can label the arguments to your functions, using `~`:"
   ]
  },
  {
   "cell_type": "code",
   "execution_count": null,
   "id": "focal-manhattan",
   "metadata": {},
   "outputs": [],
   "source": [
    "let map x ~f =\n",
    "  let rec iter accu still_to_be_processed =\n",
    "    match still_to_be_processed with\n",
    "    | [] -> List.rev accu\n",
    "    | hd :: tl -> iter (f hd :: accu) tl\n",
    "  in\n",
    "  iter [] x"
   ]
  },
  {
   "cell_type": "markdown",
   "id": "spiritual-insider",
   "metadata": {},
   "source": [
    "Labelled arguments allow you to swap the order in which arguments are passed to the function. Thus, instead of:"
   ]
  },
  {
   "cell_type": "code",
   "execution_count": null,
   "id": "medieval-preference",
   "metadata": {},
   "outputs": [],
   "source": [
    "[ 2; 3; 4 ] |> fun x -> map x ~f:(fun x -> x + 1)"
   ]
  },
  {
   "cell_type": "markdown",
   "id": "negative-bryan",
   "metadata": {},
   "source": [
    "you can write:"
   ]
  },
  {
   "cell_type": "code",
   "execution_count": null,
   "id": "educational-combination",
   "metadata": {},
   "outputs": [],
   "source": [
    "[ 2; 3; 4 ] |> map ~f:(fun x -> x + 1)"
   ]
  },
  {
   "cell_type": "markdown",
   "id": "increased-turtle",
   "metadata": {},
   "source": [
    "You don't _have to_ use a function's labels, but OCaml will warn you if you omit them:"
   ]
  },
  {
   "cell_type": "code",
   "execution_count": null,
   "id": "minus-discount",
   "metadata": {},
   "outputs": [],
   "source": [
    "map [ 2; 3; 4 ] (fun x -> x + 1)"
   ]
  },
  {
   "cell_type": "markdown",
   "id": "fitted-washington",
   "metadata": {},
   "source": [
    "Labelled arguments greatly facilitate the use of partial evaluation:"
   ]
  },
  {
   "cell_type": "code",
   "execution_count": null,
   "id": "meaningful-container",
   "metadata": {},
   "outputs": [],
   "source": [
    "let f ~a ~b c = a + b - c"
   ]
  },
  {
   "cell_type": "code",
   "execution_count": null,
   "id": "numeric-scientist",
   "metadata": {},
   "outputs": [],
   "source": [
    "let g = f ~b:3"
   ]
  },
  {
   "cell_type": "markdown",
   "id": "material-bouquet",
   "metadata": {},
   "source": [
    "Without labelled arguments, we would need to do the following instead:"
   ]
  },
  {
   "cell_type": "code",
   "execution_count": null,
   "id": "hawaiian-juice",
   "metadata": {},
   "outputs": [],
   "source": [
    "let f a b c = a + b - c\n",
    "let g = (fun a c -> f a 3 c)"
   ]
  },
  {
   "cell_type": "markdown",
   "id": "meaning-legislation",
   "metadata": {},
   "source": [
    "### 1.2 Optional arguments"
   ]
  },
  {
   "cell_type": "markdown",
   "id": "disabled-glucose",
   "metadata": {},
   "source": [
    "Consider the following function, where the first argument `a` is an `int option`:"
   ]
  },
  {
   "cell_type": "code",
   "execution_count": null,
   "id": "official-bunny",
   "metadata": {},
   "outputs": [],
   "source": [
    "let maybe_add a x =\n",
    "  match a with\n",
    "  | Some y -> x + y\n",
    "  | None -> x"
   ]
  },
  {
   "cell_type": "markdown",
   "id": "maritime-message",
   "metadata": {},
   "source": [
    "OCaml lets you write this instead:"
   ]
  },
  {
   "cell_type": "code",
   "execution_count": null,
   "id": "sound-avenue",
   "metadata": {},
   "outputs": [],
   "source": [
    "let maybe_add ?a x =\n",
    "  match a with\n",
    "  | Some y -> x + y\n",
    "  | None -> x"
   ]
  },
  {
   "cell_type": "markdown",
   "id": "piano-clothing",
   "metadata": {},
   "source": [
    "such that `a` is now officially an optional argument that can be omitted altogether: "
   ]
  },
  {
   "cell_type": "code",
   "execution_count": null,
   "id": "stuck-pendant",
   "metadata": {},
   "outputs": [],
   "source": [
    "maybe_add 3"
   ]
  },
  {
   "cell_type": "markdown",
   "id": "shared-legend",
   "metadata": {},
   "source": [
    "If you want to specify the value of an optional parameter, use `~` with the appropriate label:"
   ]
  },
  {
   "cell_type": "code",
   "execution_count": null,
   "id": "assigned-dallas",
   "metadata": {},
   "outputs": [],
   "source": [
    "maybe_add ~a:5 3"
   ]
  },
  {
   "cell_type": "markdown",
   "id": "abstract-oxide",
   "metadata": {},
   "source": [
    "Optional arguments can also be given a default value, in which case they are no longer options inside the body of the function:"
   ]
  },
  {
   "cell_type": "code",
   "execution_count": null,
   "id": "medieval-commission",
   "metadata": {},
   "outputs": [],
   "source": [
    "let add_three_or_something_else ?(a = 3) x = a + x"
   ]
  },
  {
   "cell_type": "code",
   "execution_count": null,
   "id": "congressional-customs",
   "metadata": {},
   "outputs": [],
   "source": [
    "add_three_or_something_else 6"
   ]
  },
  {
   "cell_type": "code",
   "execution_count": null,
   "id": "acknowledged-murder",
   "metadata": {},
   "outputs": [],
   "source": [
    "add_three_or_something_else ~a:0 6"
   ]
  },
  {
   "cell_type": "markdown",
   "id": "atlantic-logan",
   "metadata": {},
   "source": [
    "## 2. Dealing with errors"
   ]
  },
  {
   "cell_type": "markdown",
   "id": "recreational-virgin",
   "metadata": {},
   "source": [
    "OCaml lets you define your own exceptions, which may carry some payload:"
   ]
  },
  {
   "cell_type": "code",
   "execution_count": null,
   "id": "through-begin",
   "metadata": {},
   "outputs": [],
   "source": [
    "exception Invalid_name of string"
   ]
  },
  {
   "cell_type": "markdown",
   "id": "mathematical-tunnel",
   "metadata": {},
   "source": [
    "The example below will be based on a simplified version of the `president` type used in an earlier lecture:"
   ]
  },
  {
   "cell_type": "code",
   "execution_count": null,
   "id": "announced-craps",
   "metadata": {},
   "outputs": [],
   "source": [
    "type simple_president = { name : string }"
   ]
  },
  {
   "cell_type": "markdown",
   "id": "reflected-proportion",
   "metadata": {},
   "source": [
    "This is how an exception can be “raised”:"
   ]
  },
  {
   "cell_type": "code",
   "execution_count": null,
   "id": "nutritional-unemployment",
   "metadata": {},
   "outputs": [],
   "source": [
    "let add_president ~list p =\n",
    "  (* if name is invalid, raise an exception *)\n",
    "  if String.length p.name < 2 then raise (Invalid_name p.name) else p :: list"
   ]
  },
  {
   "cell_type": "code",
   "execution_count": null,
   "id": "severe-behalf",
   "metadata": {},
   "outputs": [],
   "source": [
    "let us_pres = [ { name = \"Biden\" } ]"
   ]
  },
  {
   "cell_type": "code",
   "execution_count": null,
   "id": "current-workstation",
   "metadata": {},
   "outputs": [],
   "source": [
    "let us_pres = add_president ~list:us_pres { name = \"O\" }"
   ]
  },
  {
   "cell_type": "markdown",
   "id": "reflected-sustainability",
   "metadata": {},
   "source": [
    "Notice how raising an exception immediately aborts your program. The point of exceptions is that they can be caught at runtime, to modify the flow of execution of your program:"
   ]
  },
  {
   "cell_type": "code",
   "execution_count": null,
   "id": "practical-colonial",
   "metadata": {},
   "outputs": [],
   "source": [
    "let add_many_presidents ~list x =\n",
    "  List.fold x ~init:list ~f:(fun accu p ->\n",
    "    try add_president ~list:accu p with\n",
    "    | Invalid_name s ->\n",
    "      Fp.Utils.print_msg Printf.(sprintf \"Warning: %s invalid so not added!\" s);\n",
    "      accu)"
   ]
  },
  {
   "cell_type": "code",
   "execution_count": null,
   "id": "sought-genius",
   "metadata": {},
   "outputs": [],
   "source": [
    "let us_pres = [ { name = \"Biden\" } ] in\n",
    "add_many_presidents ~list:us_pres [ { name = \"O\" }; { name = \"Obama\" } ]"
   ]
  },
  {
   "cell_type": "markdown",
   "id": "automatic-brother",
   "metadata": {},
   "source": [
    "## 3. Software architecture in FP: the module system"
   ]
  },
  {
   "cell_type": "markdown",
   "id": "charming-raise",
   "metadata": {},
   "source": [
    "OCaml has a brilliant module system that allows you to structure your codebase. Modules are essentially units that pack types and functions, and provide a namespace for those.\n",
    "A distinction is made between module “implementations” (`struct ... end`) and module types or “signatures” (`sig ... end`):"
   ]
  },
  {
   "cell_type": "code",
   "execution_count": null,
   "id": "attractive-restoration",
   "metadata": {},
   "outputs": [],
   "source": [
    "module type President_T = sig\n",
    "  type t  = { last_name : string }\n",
    "\n",
    "  exception Invalid_name of Base.string\n",
    "\n",
    "  val of_name : string -> t\n",
    "  val name : t -> string\n",
    "  val add : list:t list -> t -> t list\n",
    "end"
   ]
  },
  {
   "cell_type": "markdown",
   "id": "large-there",
   "metadata": {},
   "source": [
    "A particular implementation of this signature would be, for example:"
   ]
  },
  {
   "cell_type": "code",
   "execution_count": null,
   "id": "secret-mineral",
   "metadata": {},
   "outputs": [],
   "source": [
    "module President : President_T\n",
    "(* type-annotating here to show you the type of this module *) = struct\n",
    "  type t = { last_name : string }\n",
    "\n",
    "  exception Invalid_name of string\n",
    "\n",
    "  let valid_name n = String.length n > 1\n",
    "  let name p = p.last_name\n",
    "  let of_name n = if valid_name n then { last_name = n } else raise (Invalid_name n)\n",
    "  let add ~list p = p :: list\n",
    "end"
   ]
  },
  {
   "cell_type": "markdown",
   "id": "fluid-object",
   "metadata": {},
   "source": [
    "Types and values inside a module can be accessed using the `Module_name.something` notation. For example:"
   ]
  },
  {
   "cell_type": "code",
   "execution_count": null,
   "id": "extra-albuquerque",
   "metadata": {},
   "outputs": [],
   "source": [
    "let obama = President.of_name \"Obama\""
   ]
  },
  {
   "cell_type": "markdown",
   "id": "certified-thailand",
   "metadata": {},
   "source": [
    "Module signatures allow you to restrict the things you want to expose to the user of your library. For example, we might want to “hide” the concrete definition of the `t` record type, to prevent the user from by-passing the function `of_name` and thus creating invalid presidents. Indeed, the way `P` is defined above, the user could do this:"
   ]
  },
  {
   "cell_type": "code",
   "execution_count": null,
   "id": "pharmaceutical-latest",
   "metadata": {},
   "outputs": [],
   "source": [
    "let invalid = President.{ last_name = \"_\" }"
   ]
  },
  {
   "cell_type": "markdown",
   "id": "literary-bracelet",
   "metadata": {},
   "source": [
    "To prevent this, we can make `President.t` an abstract type:"
   ]
  },
  {
   "cell_type": "code",
   "execution_count": null,
   "id": "warming-poultry",
   "metadata": {},
   "outputs": [],
   "source": [
    "module type President_safe_T = sig\n",
    "  type t\n",
    "  (* notice that we have removed the record type definition !\n",
    "     this makes t a so-called abstract type *)\n",
    "\n",
    "  exception Invalid_name of Base.string\n",
    "\n",
    "  val of_name : string -> t\n",
    "  val name : t -> string\n",
    "  val add : list:t list -> t -> t list\n",
    "end"
   ]
  },
  {
   "cell_type": "markdown",
   "id": "vocal-seeking",
   "metadata": {},
   "source": [
    "We can now restrict our `President` module to this type:"
   ]
  },
  {
   "cell_type": "code",
   "execution_count": null,
   "id": "prerequisite-prerequisite",
   "metadata": {},
   "outputs": [],
   "source": [
    "module President_safe : President_safe_T = President"
   ]
  },
  {
   "cell_type": "code",
   "execution_count": null,
   "id": "piano-barbados",
   "metadata": {},
   "outputs": [],
   "source": [
    "let o = President_safe.{ last_name = \"\"}"
   ]
  },
  {
   "cell_type": "markdown",
   "id": "romantic-vinyl",
   "metadata": {},
   "source": [
    "The above fails, because `President_safe_T` does not expose the concrete implementation of the record type. So the user has only ONE option for creating values of type `President_safe.t`, and that is to use the function `of_name` provided by this module, in which the validity of the name is checked automatically:"
   ]
  },
  {
   "cell_type": "code",
   "execution_count": null,
   "id": "parliamentary-blond",
   "metadata": {},
   "outputs": [],
   "source": [
    "let o = President_safe.of_name \"_\""
   ]
  },
  {
   "cell_type": "markdown",
   "id": "serial-balance",
   "metadata": {},
   "source": [
    "This ensures that nobody can create invalid presidents."
   ]
  },
  {
   "cell_type": "markdown",
   "id": "cloudy-pollution",
   "metadata": {},
   "source": [
    "## 4. Memoization & dynamic programming"
   ]
  },
  {
   "cell_type": "code",
   "execution_count": null,
   "id": "great-breach",
   "metadata": {},
   "outputs": [],
   "source": [
    "let rec fib = function\n",
    "  | 0 -> 0\n",
    "  | 1 -> 1\n",
    "  | a ->\n",
    "    if a < 0\n",
    "    then raise (Invalid_argument \"must be positive\")\n",
    "    else fib (a - 1) + fib (a - 2)"
   ]
  },
  {
   "cell_type": "code",
   "execution_count": null,
   "id": "sweet-silicon",
   "metadata": {},
   "outputs": [],
   "source": [
    "List.init 8 ~f:fib"
   ]
  },
  {
   "cell_type": "code",
   "execution_count": null,
   "id": "mighty-louisville",
   "metadata": {},
   "outputs": [],
   "source": [
    "let timeit f x =\n",
    "  let t0 = Unix.gettimeofday () in\n",
    "  let result = f x in\n",
    "  let t1 = Unix.gettimeofday () in\n",
    "  result, t1 -. t0 "
   ]
  },
  {
   "cell_type": "code",
   "execution_count": null,
   "id": "curious-montreal",
   "metadata": {},
   "outputs": [],
   "source": [
    "let times = List.init 36 ~f:(timeit fib) |> List.map ~f:snd"
   ]
  },
  {
   "cell_type": "markdown",
   "id": "olive-relief",
   "metadata": {},
   "source": [
    "This scales horrendously (i.e. exponentially):"
   ]
  },
  {
   "attachments": {
    "image-2.png": {
     "image/png": "[encoded data removed]"
    }
   },
   "cell_type": "markdown",
   "id": "regulation-tuning",
   "metadata": {},
   "source": [
    "![image-2.png](attachment:image-2.png)"
   ]
  },
  {
   "cell_type": "markdown",
   "id": "fourth-photography",
   "metadata": {},
   "source": [
    "In the following, we will show that there is a general strategy for speeding up functions that otherwise perform a lot of redundant calculations. This strategy relies on caching (i.e. memorizing for later re-use) function evaluations, using so-called hash tables. Let's begin by learning how to use hash tables in OCaml."
   ]
  },
  {
   "cell_type": "markdown",
   "id": "operational-result",
   "metadata": {},
   "source": [
    "### Hashtables in OCaml"
   ]
  },
  {
   "cell_type": "code",
   "execution_count": null,
   "id": "blessed-weight",
   "metadata": {},
   "outputs": [],
   "source": [
    "(* using Stdlib because Base might have shadowed the Stdlib.Hashtbl module... *)\n",
    "let h = Stdlib.Hashtbl.create 1000"
   ]
  },
  {
   "cell_type": "markdown",
   "id": "elegant-sector",
   "metadata": {},
   "source": [
    "At this point, `h` is polymorphic. But its type will be fully determined upon first use: if we use it to store a `string` value using an `int` key, OCaml will immediately know that `h` has type `(int * string) Hashtbl.t`."
   ]
  },
  {
   "cell_type": "code",
   "execution_count": null,
   "id": "varied-separation",
   "metadata": {},
   "outputs": [],
   "source": [
    "Stdlib.Hashtbl.add h 0 \"cambridge\""
   ]
  },
  {
   "cell_type": "code",
   "execution_count": null,
   "id": "meaningful-excitement",
   "metadata": {},
   "outputs": [],
   "source": [
    "Stdlib.Hashtbl.find h 0"
   ]
  },
  {
   "cell_type": "markdown",
   "id": "north-heaven",
   "metadata": {},
   "source": [
    "OCaml raises a `Not_found` exception if we look up a key that has never been used:"
   ]
  },
  {
   "cell_type": "code",
   "execution_count": null,
   "id": "concerned-percentage",
   "metadata": {},
   "outputs": [],
   "source": [
    "Stdlib.Hashtbl.find h 18"
   ]
  },
  {
   "cell_type": "markdown",
   "id": "specialized-chemistry",
   "metadata": {},
   "source": [
    "### Generic memoization function:"
   ]
  },
  {
   "cell_type": "markdown",
   "id": "pharmaceutical-burke",
   "metadata": {},
   "source": [
    "Now let's write our generic memoization function:\n",
    "\n",
    "```ocaml\n",
    "val memoize: ('a -> 'b) -> 'a -> 'b\n",
    "```"
   ]
  },
  {
   "cell_type": "code",
   "execution_count": null,
   "id": "vulnerable-instrument",
   "metadata": {},
   "outputs": [],
   "source": [
    "let memoize ?(size = 1000) f =\n",
    "  let h = Stdlib.Hashtbl.create size in\n",
    "  fun x ->\n",
    "    try Stdlib.Hashtbl.find h x with\n",
    "    | Stdlib.Not_found ->\n",
    "      let y = f x in\n",
    "      Stdlib.Hashtbl.add h x y;\n",
    "      y"
   ]
  },
  {
   "cell_type": "code",
   "execution_count": null,
   "id": "asian-brooklyn",
   "metadata": {},
   "outputs": [],
   "source": [
    "let fib_mem = memoize fib"
   ]
  },
  {
   "cell_type": "markdown",
   "id": "intermediate-defendant",
   "metadata": {},
   "source": [
    "Now try evaluting the following line multiple times. You will see that the first one is slow, and every subsequent call is lightning fast:"
   ]
  },
  {
   "cell_type": "code",
   "execution_count": null,
   "id": "pressing-hampshire",
   "metadata": {},
   "outputs": [],
   "source": [
    "timeit fib_mem 37 |> snd"
   ]
  },
  {
   "cell_type": "markdown",
   "id": "based-hollow",
   "metadata": {},
   "source": [
    "The problem, however, is that even though we have now memoized `fib 37`, our recursive function `fib` is UNABLE to make use of this to evaluate `fib 38` in a faster way.\n",
    "\n",
    "To memoize recursive functions properly, we make use of the following trick:\n",
    "- rewrite our recursive function by adding an extra parameter `f`, which is a function assumed to already know how to perform the “tail call”. So, if your original function was\n",
    "```ocaml\n",
    "let rec f x = (* [... some expression containing\n",
    "                      a tail call (f z) ... ] *)  \n",
    "```\n",
    "you rewrite it this way:\n",
    "```ocaml\n",
    "let f_norec f_tail x = (* [ ... the same expression where you use\n",
    "                      f_tail z instead of f z  ... ] *)\n",
    "```\n",
    "- write a generic `memoize_rec` function (see below)\n",
    "- construct `memoize_rec f_norec` : this is a fully memoized version of your original recursive `f` function!"
   ]
  },
  {
   "cell_type": "code",
   "execution_count": null,
   "id": "loaded-married",
   "metadata": {},
   "outputs": [],
   "source": [
    "let fib_norec fib_tail = function\n",
    "  | 0 -> 0\n",
    "  | 1 -> 1\n",
    "  | a ->\n",
    "    if a < 0\n",
    "    then raise (Invalid_argument \"must be positive\")\n",
    "    else fib_tail (a - 1) + fib_tail (a - 2)"
   ]
  },
  {
   "cell_type": "code",
   "execution_count": null,
   "id": "undefined-willow",
   "metadata": {},
   "outputs": [],
   "source": [
    "let memoize_rec f_norec =\n",
    "  (* create a pointer to a generic 'a -> 'b function *)\n",
    "  let fref = ref (fun _ -> raise Stdlib.Not_found) in\n",
    "  (* memoize the f_norec function *)\n",
    "  let f = memoize (fun x -> f_norec !fref x) in\n",
    "  (* put the memoized function inside the box *)\n",
    "  fref := f;\n",
    "  (* return f *)\n",
    "  f"
   ]
  },
  {
   "cell_type": "code",
   "execution_count": null,
   "id": "confirmed-movement",
   "metadata": {},
   "outputs": [],
   "source": [
    "let fib = memoize_rec fib_norec"
   ]
  },
  {
   "cell_type": "markdown",
   "id": "reasonable-terrorist",
   "metadata": {},
   "source": [
    "This new `fib` function is now able to cache every single call it makes to itself! In particular, observe the following:"
   ]
  },
  {
   "cell_type": "code",
   "execution_count": null,
   "id": "viral-great",
   "metadata": {},
   "outputs": [],
   "source": [
    "timeit fib 100 |> snd"
   ]
  },
  {
   "cell_type": "code",
   "execution_count": null,
   "id": "reliable-county",
   "metadata": {},
   "outputs": [],
   "source": [
    "timeit fib 99 |> snd"
   ]
  },
  {
   "cell_type": "markdown",
   "id": "superb-pantyhose",
   "metadata": {},
   "source": [
    "Not only was the evaluation of `fib 100` much faster than before, but now you can tell that `fib 99` has been cached as part of evaluating `fib 100`, and is therefore even faster."
   ]
  },
  {
   "cell_type": "markdown",
   "id": "statewide-leave",
   "metadata": {},
   "source": [
    "## 5. Laziness"
   ]
  },
  {
   "cell_type": "markdown",
   "id": "dcf70cba",
   "metadata": {},
   "source": [
    "(if time permits)"
   ]
  },
  {
   "cell_type": "code",
   "execution_count": null,
   "id": "ca07d648",
   "metadata": {},
   "outputs": [],
   "source": []
  }
 ],
 "metadata": {
  "kernelspec": {
   "display_name": "OCaml 4.14.0",
   "language": "OCaml",
   "name": "ocaml-jupyter"
  },
  "language_info": {
   "codemirror_mode": "text/x-ocaml",
   "file_extension": ".ml",
   "mimetype": "text/x-ocaml",
   "name": "OCaml",
   "nbconverter_exporter": null,
   "pygments_lexer": "OCaml",
   "version": "4.14.0"
  }
 },
 "nbformat": 4,
 "nbformat_minor": 5
}
