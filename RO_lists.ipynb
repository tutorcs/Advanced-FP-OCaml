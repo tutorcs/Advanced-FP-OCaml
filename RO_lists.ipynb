{
 "cells": [
  {
   "cell_type": "markdown",
   "id": "front-usage",
   "metadata": {},
   "source": [
    "# FP playground: working with lists"
   ]
  },
  {
   "cell_type": "code",
   "execution_count": null,
   "id": "premium-script",
   "metadata": {},
   "outputs": [],
   "source": [
    "#require \"fp\"  (* loads the main FP library I wrote for this course *)"
   ]
  },
  {
   "cell_type": "markdown",
   "id": "alternate-prompt",
   "metadata": {},
   "source": [
    "Having superficially covered a range of FP core concepts in the introduction lecture, we will now put this knowledge into practice by learning about list processing. This is a hands-on tutorial with lots of examples for you to cut your teeth on!\n",
    "\n",
    "Along the way, we will learn about FP concepts such as algebraic types, record types, pattern matching, ..."
   ]
  },
  {
   "cell_type": "markdown",
   "id": "ae990c98",
   "metadata": {
    "heading_collapsed": true
   },
   "source": [
    "## 1. What is a list?"
   ]
  },
  {
   "cell_type": "markdown",
   "id": "intellectual-easter",
   "metadata": {
    "hidden": true
   },
   "source": [
    "In FP, a <span class=\"emph\">list</span> is an ordered collection of elements of the same type. OCaml offers the following syntax for writing lists (note: elements are separated by `;`, not `,`): "
   ]
  },
  {
   "cell_type": "code",
   "execution_count": null,
   "id": "backed-brooklyn",
   "metadata": {
    "hidden": true
   },
   "outputs": [],
   "source": [
    "let x = [ 4; 2; 35; 0 ]"
   ]
  },
  {
   "cell_type": "code",
   "execution_count": null,
   "id": "alien-translator",
   "metadata": {
    "hidden": true
   },
   "outputs": [],
   "source": [
    "[ \"hello\"; \"cambridge\" ]"
   ]
  },
  {
   "cell_type": "code",
   "execution_count": null,
   "id": "exceptional-journal",
   "metadata": {
    "hidden": true
   },
   "outputs": [],
   "source": [
    "[]"
   ]
  },
  {
   "cell_type": "markdown",
   "id": "extensive-memory",
   "metadata": {
    "hidden": true
   },
   "source": [
    "Here, OCaml infers the type of `x` to be `int list`: this is a new kind of type we haven't seen before!\n",
    "\n",
    "This is an example of a <span class=\"emph\">parameterised type</span>: there can be lists of ints, lists of strings, lists of bools, ... lists of _anything_ really! That is why OCaml uses `'a list` as its native list type. Here, `'a` means “any type” ─ you will see later how we can write functions that operate on `'a list` values (e.g. `length: 'a list -> int`).\n",
    "\n",
    "Let's look at another example:"
   ]
  },
  {
   "cell_type": "code",
   "execution_count": null,
   "id": "elder-investigation",
   "metadata": {
    "hidden": true,
    "scrolled": true
   },
   "outputs": [],
   "source": [
    "let us_presidents = [ \"Obama\", 2009, 2017; \"Trump\", 2017, 2021 ]"
   ]
  },
  {
   "cell_type": "markdown",
   "id": "illegal-hobby",
   "metadata": {
    "hidden": true
   },
   "source": [
    "OCaml offers the following operators on lists:\n",
    "- `::` for appending a single element at the front\n",
    "- `@` for concatenating two lists together."
   ]
  },
  {
   "cell_type": "code",
   "execution_count": null,
   "id": "formal-charles",
   "metadata": {
    "hidden": true
   },
   "outputs": [],
   "source": [
    "x"
   ]
  },
  {
   "cell_type": "code",
   "execution_count": null,
   "id": "amazing-proceeding",
   "metadata": {
    "hidden": true
   },
   "outputs": [],
   "source": [
    "let x = 11 :: x"
   ]
  },
  {
   "cell_type": "code",
   "execution_count": null,
   "id": "accepting-backup",
   "metadata": {
    "hidden": true
   },
   "outputs": [],
   "source": [
    "let empty = [] in\n",
    "11 :: 4 :: 2 :: 35 :: 0 :: empty"
   ]
  },
  {
   "cell_type": "code",
   "execution_count": null,
   "id": "willing-production",
   "metadata": {
    "hidden": true,
    "scrolled": true
   },
   "outputs": [],
   "source": [
    "let x = x @ [ 8 ]"
   ]
  },
  {
   "cell_type": "markdown",
   "id": "corrected-antibody",
   "metadata": {
    "hidden": true
   },
   "source": [
    "<span class=\"exo\">Exercise 1/A</span>\n",
    "Use `::` to update `us_presidents` so that it now also includes `\"Bush\", 2001, 2009`:"
   ]
  },
  {
   "cell_type": "code",
   "execution_count": null,
   "id": "limited-aaron",
   "metadata": {
    "hidden": true
   },
   "outputs": [],
   "source": [
    "let us_presidents =\n",
    "  (* your answer here *)"
   ]
  },
  {
   "cell_type": "markdown",
   "id": "corporate-sunglasses",
   "metadata": {
    "hidden": true
   },
   "source": [
    "Now, how would add Joe Biden at the end of the list? 🤔\n",
    "\n",
    "<span class=\"exo\">Impossible exercise 1/B</span>\n",
    "Use `@` to update `us_presidents` so that it now also includes Joe Biden, whose term started in 2021."
   ]
  },
  {
   "cell_type": "code",
   "execution_count": null,
   "id": "narrow-blogger",
   "metadata": {
    "hidden": true
   },
   "outputs": [],
   "source": [
    "let us_presidents = (* your answer here *)"
   ]
  },
  {
   "cell_type": "markdown",
   "id": "weird-tattoo",
   "metadata": {
    "heading_collapsed": true
   },
   "source": [
    "## 2. Sum types: representing heterogeneous data"
   ]
  },
  {
   "cell_type": "markdown",
   "id": "general-swing",
   "metadata": {
    "hidden": true
   },
   "source": [
    "How do we add Joe Biden to the list?\n",
    "He was elected in 2021, and it is unclear how long he will serve. Thus we simply cannot represent it using a `string * int * int` value... and so we can't add it to a `(string * int * int) list`.\n",
    "\n",
    "But don't fret! OCaml has a very expressive algebraic type system. We've already learned about product types (e.g. `string * int * int`), so let's now learn about <span class=\"emph\">sum types</span>:"
   ]
  },
  {
   "cell_type": "code",
   "execution_count": null,
   "id": "diagnostic-background",
   "metadata": {
    "hidden": true
   },
   "outputs": [],
   "source": [
    "type maybe_ended =\n",
    "  | Still_in_office\n",
    "  | Ended of int"
   ]
  },
  {
   "cell_type": "code",
   "execution_count": null,
   "id": "honest-dividend",
   "metadata": {
    "hidden": true
   },
   "outputs": [],
   "source": [
    "Still_in_office"
   ]
  },
  {
   "cell_type": "code",
   "execution_count": null,
   "id": "dutch-communications",
   "metadata": {
    "hidden": true
   },
   "outputs": [],
   "source": [
    "Ended 2005"
   ]
  },
  {
   "cell_type": "markdown",
   "id": "amazing-publicity",
   "metadata": {
    "hidden": true
   },
   "source": [
    "Here, type `maybe_ended` very naturally expresses the fact that a president may, or may not, have finished his/her term.\n",
    "\n",
    "We can now pack the last 4 US presidents, including the current one, in a single list:"
   ]
  },
  {
   "cell_type": "code",
   "execution_count": null,
   "id": "6275eaf2",
   "metadata": {
    "hidden": true
   },
   "outputs": [],
   "source": [
    "let us_presidents =\n",
    "  [ \"Bush\", 2001, Ended 2009\n",
    "  ; \"Obama\", 2009, Ended 2017\n",
    "  ; \"Trump\", 2017, Ended 2021\n",
    "  ; \"Biden\", 2021, Still_in_office\n",
    "  ]"
   ]
  },
  {
   "cell_type": "markdown",
   "id": "jewish-reducing",
   "metadata": {
    "hidden": true
   },
   "source": [
    "OCaml also has record types, which may be more natural here:"
   ]
  },
  {
   "cell_type": "code",
   "execution_count": null,
   "id": "electronic-favorite",
   "metadata": {
    "hidden": true
   },
   "outputs": [],
   "source": [
    "type president =\n",
    "  { name : string\n",
    "  ; started : int\n",
    "  ; ended : int option\n",
    "  }"
   ]
  },
  {
   "cell_type": "markdown",
   "id": "settled-column",
   "metadata": {
    "hidden": true
   },
   "source": [
    "OCaml comes with a pre-defined “option” type, defined as a polymorphic sum type as  follows:\n",
    "```ocaml\n",
    "type 'a option = \n",
    "  | None\n",
    "  | Some of 'a\n",
    "```"
   ]
  },
  {
   "cell_type": "code",
   "execution_count": null,
   "id": "particular-taxation",
   "metadata": {
    "hidden": true
   },
   "outputs": [],
   "source": [
    "[ \"string\"]"
   ]
  },
  {
   "cell_type": "code",
   "execution_count": null,
   "id": "committed-cemetery",
   "metadata": {
    "hidden": true
   },
   "outputs": [],
   "source": [
    "[] "
   ]
  },
  {
   "cell_type": "code",
   "execution_count": null,
   "id": "healthy-psychiatry",
   "metadata": {
    "hidden": true
   },
   "outputs": [],
   "source": [
    "Some \"hello\""
   ]
  },
  {
   "cell_type": "code",
   "execution_count": null,
   "id": "parliamentary-creation",
   "metadata": {
    "hidden": true
   },
   "outputs": [],
   "source": [
    "None"
   ]
  },
  {
   "cell_type": "markdown",
   "id": "directed-ecology",
   "metadata": {
    "hidden": true
   },
   "source": [
    "We can represent a single president as e.g."
   ]
  },
  {
   "cell_type": "code",
   "execution_count": null,
   "id": "compatible-navigator",
   "metadata": {
    "hidden": true
   },
   "outputs": [],
   "source": [
    "let bush = { name = \"Bush\"; started = 2001; ended = Some 2009 }"
   ]
  },
  {
   "cell_type": "markdown",
   "id": "structured-suspect",
   "metadata": {
    "hidden": true
   },
   "source": [
    "and access its record fields using the `.` notation: "
   ]
  },
  {
   "cell_type": "code",
   "execution_count": null,
   "id": "vital-values",
   "metadata": {
    "hidden": true
   },
   "outputs": [],
   "source": [
    "bush.name"
   ]
  },
  {
   "cell_type": "markdown",
   "id": "productive-education",
   "metadata": {
    "hidden": true
   },
   "source": [
    "So we can now construct our list of US presidents as follows:"
   ]
  },
  {
   "cell_type": "code",
   "execution_count": null,
   "id": "romantic-header",
   "metadata": {
    "hidden": true
   },
   "outputs": [],
   "source": [
    "let us_presidents =\n",
    "  let bush = { name = \"Bush\"; started = 2001; ended = Some 2009 } in\n",
    "  let obama = { name = \"Obama\"; started = 2009; ended = Some 2017 } in\n",
    "  let trump = { name = \"Trump\"; started = 2017; ended = Some 2021 } in\n",
    "  let biden = { name = \"Biden\"; started = 2021; ended = None } in\n",
    "  [ bush; obama; trump; biden ]"
   ]
  },
  {
   "cell_type": "markdown",
   "id": "sitting-humanity",
   "metadata": {
    "heading_collapsed": true
   },
   "source": [
    "## 3. The list type as a polymorphic recursive sum type"
   ]
  },
  {
   "cell_type": "markdown",
   "id": "inside-thanksgiving",
   "metadata": {
    "hidden": true
   },
   "source": [
    "OCaml allows you to define <span class=\"emph\">recursive types</span>, and this can be used to define a polymorphic list type, like so:"
   ]
  },
  {
   "cell_type": "code",
   "execution_count": null,
   "id": "close-booth",
   "metadata": {
    "hidden": true
   },
   "outputs": [],
   "source": [
    "type 'a my_list =\n",
    "  | Empty (* empty list *)\n",
    "  | Append of 'a * 'a my_list\n",
    "(* an element, potentially followed by more elements *)"
   ]
  },
  {
   "cell_type": "code",
   "execution_count": null,
   "id": "least-forum",
   "metadata": {
    "hidden": true
   },
   "outputs": [],
   "source": [
    "let x = [ 11; 4; 2]"
   ]
  },
  {
   "cell_type": "markdown",
   "id": "senior-surge",
   "metadata": {
    "hidden": true
   },
   "source": [
    "<span class=\"exo\">Exercise 3/A</span> Use the type `my_list` to construct the same list as `x` above, as an `int my_list` value."
   ]
  },
  {
   "cell_type": "code",
   "execution_count": null,
   "id": "possible-peeing",
   "metadata": {
    "hidden": true
   },
   "outputs": [],
   "source": [
    "let x = 11 :: 4 :: 2 :: []"
   ]
  },
  {
   "cell_type": "code",
   "execution_count": null,
   "id": "essential-familiar",
   "metadata": {
    "hidden": true
   },
   "outputs": [],
   "source": [
    "let x_alternative = Append (11, Append (4, Append (2, Empty)))\n",
    "   "
   ]
  },
  {
   "cell_type": "code",
   "execution_count": null,
   "id": "gross-brush",
   "metadata": {
    "hidden": true
   },
   "outputs": [],
   "source": [
    "type 'a binary_tree =  \n",
    "   | Leaf of 'a\n",
    "   | Split of 'a binary_tree * 'a binary_tree"
   ]
  },
  {
   "cell_type": "raw",
   "id": "76a203bf",
   "metadata": {
    "hidden": true
   },
   "source": [
    "          |---- 50\n",
    "   |------|---- 6\n",
    "---|            |---- 5\n",
    "   |------|---- |---- 7\n",
    "          |---- 25"
   ]
  },
  {
   "cell_type": "code",
   "execution_count": null,
   "id": "sorted-delight",
   "metadata": {
    "hidden": true
   },
   "outputs": [],
   "source": [
    "Split (Split (Leaf 50.0000, Leaf 6.), Split (Split (Leaf 5., Leaf 7.), Leaf 25.))"
   ]
  },
  {
   "cell_type": "markdown",
   "id": "hearing-massage",
   "metadata": {
    "heading_collapsed": true
   },
   "source": [
    "## 4. Pattern matching"
   ]
  },
  {
   "cell_type": "markdown",
   "id": "missing-checklist",
   "metadata": {
    "hidden": true
   },
   "source": [
    "OCaml allows you to perform value-name bindings via <span class=\"emph\">pattern-matching</span>."
   ]
  },
  {
   "cell_type": "code",
   "execution_count": null,
   "id": "compound-attempt",
   "metadata": {
    "hidden": true
   },
   "outputs": [],
   "source": [
    "let x = \"foo\", 3.14"
   ]
  },
  {
   "cell_type": "code",
   "execution_count": null,
   "id": "compound-consultancy",
   "metadata": {
    "hidden": true
   },
   "outputs": [],
   "source": [
    "let xs, xf = x"
   ]
  },
  {
   "cell_type": "markdown",
   "id": "boring-surge",
   "metadata": {
    "hidden": true
   },
   "source": [
    "What is going on here? OCaml knows that `x` is a pair, and therefore that it can be identified to a pattern of the form `xs, xf`. When we write\n",
    "```ocaml\n",
    "let xs, xf = x\n",
    "```\n",
    "OCaml automatically transform this into two let bindings:\n",
    "- `let xs = [the first element of the pair]`\n",
    "- `let xf = [the second element of the pair]`\n",
    "\n",
    "Pattern matching works for pretty much everything 😎, and makes coding _considerably more convenient_. The general keyword for pattern matching is `match`, and is used as follows:"
   ]
  },
  {
   "cell_type": "code",
   "execution_count": null,
   "id": "north-mediterranean",
   "metadata": {
    "hidden": true
   },
   "outputs": [],
   "source": [
    "let y =\n",
    "  match x with\n",
    "  | a, b -> a ^ \" bar\""
   ]
  },
  {
   "cell_type": "code",
   "execution_count": null,
   "id": "weird-grant",
   "metadata": {
    "hidden": true
   },
   "outputs": [],
   "source": [
    "match x with\n",
    "| a, b -> b +. 2.5"
   ]
  },
  {
   "cell_type": "code",
   "execution_count": null,
   "id": "exact-internship",
   "metadata": {
    "hidden": true
   },
   "outputs": [],
   "source": [
    "(* you get an error if you match against the wrong pattern *)\n",
    "match x with\n",
    "| a, b, c -> a"
   ]
  },
  {
   "cell_type": "markdown",
   "id": "challenging-joining",
   "metadata": {
    "hidden": true
   },
   "source": [
    "The notation is intuitive: we match a given value `x` to a relevant pattern (here, `(a, b)`, and the variable names used inside the pattern (here, `a` and `b`) become bound to their corresponding values in `x` inside the expression that follows the `->` arrow.\n",
    "\n",
    "Notice that in the code above, we are not actually using `b` anywhere. It is common practice in this case to be explicit about this, and use `_` instead of `b`:"
   ]
  },
  {
   "cell_type": "code",
   "execution_count": null,
   "id": "insured-catalog",
   "metadata": {
    "hidden": true
   },
   "outputs": [],
   "source": [
    "let y =\n",
    "  match x with\n",
    "  | first, _ -> first"
   ]
  },
  {
   "cell_type": "markdown",
   "id": "increased-quebec",
   "metadata": {
    "hidden": true
   },
   "source": [
    "<span class=\"exo\">Exercise 4/A</span> Write a function that takes an argument `x : int * int` and returns the sum of the two components."
   ]
  },
  {
   "cell_type": "code",
   "execution_count": null,
   "id": "center-stream",
   "metadata": {
    "hidden": true
   },
   "outputs": [],
   "source": [
    "let f x = (* your answer here, which should use the match keyword *)"
   ]
  },
  {
   "cell_type": "code",
   "execution_count": null,
   "id": "generous-sauce",
   "metadata": {
    "hidden": true
   },
   "outputs": [],
   "source": [
    "f (5, 6) (* should be 11 *)"
   ]
  },
  {
   "cell_type": "markdown",
   "id": "raised-excellence",
   "metadata": {
    "hidden": true
   },
   "source": [
    "<span class=\"exo\">Exercise 4/B</span> Write a function that takes an argument `x : (int * (int * string))` and returns the string component."
   ]
  },
  {
   "cell_type": "code",
   "execution_count": null,
   "id": "original-dancing",
   "metadata": {
    "hidden": true
   },
   "outputs": [],
   "source": [
    "let f x = (* your answer here *)"
   ]
  },
  {
   "cell_type": "code",
   "execution_count": null,
   "id": "capital-senegal",
   "metadata": {
    "hidden": true
   },
   "outputs": [],
   "source": [
    "f (3, (14, \"well done\")) (* should be \"well done\" *)"
   ]
  },
  {
   "cell_type": "code",
   "execution_count": null,
   "id": "approved-generation",
   "metadata": {
    "hidden": true
   },
   "outputs": [],
   "source": [
    "let f (_, (_, a)) = a"
   ]
  },
  {
   "cell_type": "markdown",
   "id": "subsequent-anniversary",
   "metadata": {
    "hidden": true
   },
   "source": [
    "Now, let's look at pattern matching for sum types, e.g. to deal with values of type `'a option`:"
   ]
  },
  {
   "cell_type": "code",
   "execution_count": null,
   "id": "following-child",
   "metadata": {
    "hidden": true
   },
   "outputs": [],
   "source": [
    "let maybe_print x =\n",
    "  match x with\n",
    "  | Some msg -> Fp.Utils.print_msg msg\n",
    "  | None -> ()"
   ]
  },
  {
   "cell_type": "code",
   "execution_count": null,
   "id": "floppy-jurisdiction",
   "metadata": {
    "hidden": true
   },
   "outputs": [],
   "source": [
    "maybe_print (Some \"I have a dream\")"
   ]
  },
  {
   "cell_type": "code",
   "execution_count": null,
   "id": "disciplinary-croatia",
   "metadata": {
    "hidden": true
   },
   "outputs": [],
   "source": [
    "maybe_print None"
   ]
  },
  {
   "cell_type": "markdown",
   "id": "pleasant-index",
   "metadata": {
    "hidden": true
   },
   "source": [
    "<span class=\"emph\">Pro tip</span> ─ when the first thing you do inside a function is to pattern match the final argument, you can use the `function` keyword directly, like this:"
   ]
  },
  {
   "cell_type": "code",
   "execution_count": null,
   "id": "israeli-chicago",
   "metadata": {
    "hidden": true
   },
   "outputs": [],
   "source": [
    "let maybe_print = function\n",
    "  | Some msg -> Fp.Utils.print_msg msg\n",
    "  | None -> ()"
   ]
  },
  {
   "cell_type": "markdown",
   "id": "offshore-watershed",
   "metadata": {
    "hidden": true
   },
   "source": [
    "<span class=\"exo\">Exercise 4/C</span> Write a function `iter` which takes a function `f : 'a -> unit` and a value `x : 'a option` as arguments, and\n",
    "- performs `f a` if if `x = Some a`\n",
    "- does nothing if `x = None`."
   ]
  },
  {
   "cell_type": "code",
   "execution_count": null,
   "id": "military-mother",
   "metadata": {
    "hidden": true
   },
   "outputs": [],
   "source": [
    "let iter f x = match x with\n",
    "  | None -> ()\n",
    "  | Some y -> f y"
   ]
  },
  {
   "cell_type": "markdown",
   "id": "wired-administrator",
   "metadata": {
    "hidden": true
   },
   "source": [
    "Now use this `iter` function to rewrite the `maybe_print` function above in a single line. "
   ]
  },
  {
   "cell_type": "code",
   "execution_count": null,
   "id": "white-remove",
   "metadata": {
    "hidden": true
   },
   "outputs": [],
   "source": [
    "let maybe_print = iter Fp.Utils.print_msg"
   ]
  },
  {
   "cell_type": "markdown",
   "id": "orange-sandwich",
   "metadata": {
    "hidden": true
   },
   "source": [
    "<span class=\"exo\">Exercise 4/D</span> Write a function `map` which takes a function `f : 'a -> 'b` and a value `x : 'a option` as arguments, and\n",
    "- returns `Some (f a)` if `x = Some a`\n",
    "- returns `None` if `x = None`."
   ]
  },
  {
   "cell_type": "code",
   "execution_count": null,
   "id": "rural-vinyl",
   "metadata": {
    "hidden": true
   },
   "outputs": [],
   "source": [
    "let map f x = (* your answer here *)"
   ]
  },
  {
   "cell_type": "code",
   "execution_count": null,
   "id": "hundred-costume",
   "metadata": {
    "hidden": true
   },
   "outputs": [],
   "source": [
    "map (fun x -> x + 1) None"
   ]
  },
  {
   "cell_type": "code",
   "execution_count": null,
   "id": "legislative-jumping",
   "metadata": {
    "hidden": true
   },
   "outputs": [],
   "source": [
    "map (fun x -> x + 1) (Some 35)"
   ]
  },
  {
   "cell_type": "markdown",
   "id": "stuffed-simpson",
   "metadata": {
    "hidden": true
   },
   "source": [
    "Congratulations! You have just implemented two of the most important higher-order functions in FP (`iter` and `map`). We'll do the same for lists later in this notebook. But first, let's finish learning about pattern matching.\n",
    "\n",
    "You can pattern-match records as well, like so:"
   ]
  },
  {
   "cell_type": "code",
   "execution_count": null,
   "id": "diagnostic-milwaukee",
   "metadata": {
    "hidden": true
   },
   "outputs": [],
   "source": [
    "let still_in_office = function\n",
    "  | { ended = None; _ } -> true\n",
    "  | _ -> false (* _ is a pattern that matches EVERYTHING *)"
   ]
  },
  {
   "cell_type": "markdown",
   "id": "social-nicholas",
   "metadata": {
    "hidden": true
   },
   "source": [
    "These two cases shouldn't be switched, because `_` matches everything and would make the second pattern matching case redundant. OCaml complains about this:"
   ]
  },
  {
   "cell_type": "code",
   "execution_count": null,
   "id": "happy-orientation",
   "metadata": {
    "hidden": true
   },
   "outputs": [],
   "source": [
    "let still_in_office = function\n",
    "  | _ -> false  (* _ is a pattern that matches EVERYTHING *)\n",
    "  | { ended = None; _ } -> true"
   ]
  },
  {
   "cell_type": "code",
   "execution_count": null,
   "id": "prepared-chile",
   "metadata": {
    "hidden": true
   },
   "outputs": [],
   "source": [
    "still_in_office bush"
   ]
  },
  {
   "cell_type": "markdown",
   "id": "behavioral-anaheim",
   "metadata": {
    "hidden": true
   },
   "source": [
    "which is equivalent to"
   ]
  },
  {
   "cell_type": "code",
   "execution_count": null,
   "id": "acknowledged-florida",
   "metadata": {
    "hidden": true
   },
   "outputs": [],
   "source": [
    "bush.ended"
   ]
  },
  {
   "cell_type": "code",
   "execution_count": null,
   "id": "moderate-fight",
   "metadata": {
    "hidden": true
   },
   "outputs": [],
   "source": [
    "let still_in_office x =\n",
    "  match x.ended with\n",
    "  | None -> true\n",
    "  | Some _ -> false"
   ]
  },
  {
   "cell_type": "markdown",
   "id": "a0a74317",
   "metadata": {
    "hidden": true
   },
   "source": [
    "Here's another example:"
   ]
  },
  {
   "cell_type": "code",
   "execution_count": null,
   "id": "decent-standard",
   "metadata": {
    "hidden": true
   },
   "outputs": [],
   "source": [
    "let check_valid_dates = function\n",
    "  | { started = s; ended = Some y; _ } -> y >= s\n",
    "  | _ -> true"
   ]
  },
  {
   "cell_type": "code",
   "execution_count": null,
   "id": "dress-creativity",
   "metadata": {
    "hidden": true
   },
   "outputs": [],
   "source": [
    "check_valid_dates { name = \"test\"; started = 2010; ended = Some 2005 }"
   ]
  },
  {
   "cell_type": "markdown",
   "id": "respective-works",
   "metadata": {
    "hidden": true
   },
   "source": [
    "<span class=\"exo\">Exercise 4/D</span> Write a function `most_recent` that takes two US president records `p1` and `p2`, and returns the most recent one."
   ]
  },
  {
   "cell_type": "code",
   "execution_count": null,
   "id": "waiting-advice",
   "metadata": {
    "hidden": true
   },
   "outputs": [],
   "source": [
    "let most_recent p1 p2 = (* your answer here *)"
   ]
  },
  {
   "cell_type": "code",
   "execution_count": null,
   "id": "dirty-chain",
   "metadata": {
    "hidden": true
   },
   "outputs": [],
   "source": [
    "let most_recent p1 p2 =\n",
    "  match p1.started > p2.started with\n",
    "  | true -> p1\n",
    "  | false -> p2"
   ]
  },
  {
   "cell_type": "markdown",
   "id": "persistent-actor",
   "metadata": {
    "hidden": true
   },
   "source": [
    "Finally, lists can be pattern-matched using the `::` constructs we saw above, as follows:"
   ]
  },
  {
   "cell_type": "code",
   "execution_count": null,
   "id": "played-sunglasses",
   "metadata": {
    "hidden": true
   },
   "outputs": [],
   "source": [
    "let first_element = function\n",
    "  | [] -> None\n",
    "  | a :: _ -> Some a"
   ]
  },
  {
   "cell_type": "code",
   "execution_count": null,
   "id": "prime-bacon",
   "metadata": {
    "hidden": true
   },
   "outputs": [],
   "source": [
    "let has_more_than_two_elts x =\n",
    "  match x with\n",
    "  | [] -> false\n",
    "  | [ _ ] -> false\n",
    "  | [ _; _ ] -> false\n",
    "  | _ -> true"
   ]
  },
  {
   "cell_type": "code",
   "execution_count": null,
   "id": "scenic-yellow",
   "metadata": {
    "hidden": true
   },
   "outputs": [],
   "source": [
    "let x = [ 3 ] in\n",
    "has_more_than_two_elts x"
   ]
  },
  {
   "cell_type": "markdown",
   "id": "partial-eight",
   "metadata": {
    "hidden": true
   },
   "source": [
    "I hope you find pattern matching very intuitive!"
   ]
  },
  {
   "cell_type": "markdown",
   "id": "given-pendant",
   "metadata": {
    "heading_collapsed": true
   },
   "source": [
    "## 5. List processing"
   ]
  },
  {
   "cell_type": "markdown",
   "id": "interstate-advertising",
   "metadata": {
    "hidden": true
   },
   "source": [
    "Let's get started with the real stuff! We are now going to write a number of functions applied to lists, to reinforce everything we've learned so far."
   ]
  },
  {
   "cell_type": "markdown",
   "id": "368c8efb",
   "metadata": {
    "hidden": true
   },
   "source": [
    "<span class=\"exo\">Exercise 5/A</span> Write a function `length : 'a list -> int` that computes the length of a list."
   ]
  },
  {
   "cell_type": "code",
   "execution_count": null,
   "id": "current-sugar",
   "metadata": {
    "hidden": true
   },
   "outputs": [],
   "source": [
    "(* autoformat = Ctrl-l (small L) *)\n",
    "(* your answer below *)"
   ]
  },
  {
   "cell_type": "markdown",
   "id": "899db63a",
   "metadata": {
    "hidden": true
   },
   "source": [
    "<span class=\"exo\">Exercise 5/B</span> Write a function `rev : 'a list -> 'a list` that reverse a list"
   ]
  },
  {
   "cell_type": "code",
   "execution_count": null,
   "id": "valid-austin",
   "metadata": {
    "hidden": true
   },
   "outputs": [],
   "source": [
    "(* note to self: show the students how to write the TAIL-RECURSIVE version *)"
   ]
  },
  {
   "cell_type": "markdown",
   "id": "28984b66",
   "metadata": {
    "hidden": true
   },
   "source": [
    "<span class=\"exo\">Exercise 5/C</span> Write a function `nth : 'a list -> int -> 'a option` that extracts the nth element of a list, if it exists (returns None if the list is shorter than `n`)."
   ]
  },
  {
   "cell_type": "markdown",
   "id": "b8da3352",
   "metadata": {
    "hidden": true
   },
   "source": [
    "<span class=\"exo\">Exercise 5/D</span> Write a function `mem : 'a list -> 'a -> bool` such that `mem x a` is `true` if and only if the list `x` contains element `a`."
   ]
  },
  {
   "cell_type": "markdown",
   "id": "f3d77157",
   "metadata": {
    "hidden": true
   },
   "source": [
    "<span class=\"exo\">Exercise 5/E</span> Write a function `map : ('a -> 'b) -> 'a list -> 'b list` such that `map f [x1; x2; ...; xN]` returns `[f x1; f x2; ...; f xN]`."
   ]
  },
  {
   "cell_type": "markdown",
   "id": "2fdbdd58",
   "metadata": {
    "hidden": true
   },
   "source": [
    "<span class=\"exo\">Exercise 5/F</span> Write a function `zip : 'a list -> 'b list -> ('a * 'b) list` such that for two lists `x = [x1; ...; xN]` and `y = [y1; ...; yN]` of the same length, `zip x y` returns `[(x1, y1); ... ; (xN, yN)]`. "
   ]
  },
  {
   "cell_type": "markdown",
   "id": "1559f0dd",
   "metadata": {
    "hidden": true
   },
   "source": [
    "<span class=\"exo\">Exercise 5/G</span> Write a function `map2 : ('a -> 'b -> 'c) -> 'a list -> 'b list -> 'c list` such that `map2 f x y` returns `[f x1 y1; ... ; f xN yN]`."
   ]
  },
  {
   "cell_type": "markdown",
   "id": "4319b53e",
   "metadata": {
    "hidden": true
   },
   "source": [
    "<span class=\"exo\">Exercise 5/H</span> Rewrite `zip` as an instance of `map2`."
   ]
  },
  {
   "cell_type": "markdown",
   "id": "b845c1d7",
   "metadata": {
    "hidden": true
   },
   "source": [
    "<span class=\"exo\">Exercise 5/I</span> Write a function `init: int -> (int -> 'a) -> 'a list` such that `init n f` equals `[f 1; f2; ...; f n]`."
   ]
  },
  {
   "cell_type": "markdown",
   "id": "da11dd9b",
   "metadata": {
    "hidden": true
   },
   "source": [
    "<span class=\"exo\">Exercise 5/J</span> Write a function `fold: ('b -> 'a -> 'b) -> 'b -> 'a list -> 'b`   such that `fold f init x` equals `f (... (f (f init x1) x2) ...) xN`."
   ]
  },
  {
   "cell_type": "markdown",
   "id": "a170df14",
   "metadata": {
    "hidden": true
   },
   "source": [
    "<span class=\"exo\">Exercise 5/K</span> Reuse the `fold` function to write a function `iter : ('a -> unit) -> 'a list -> unit` that performs `f x1; f x2; ... f xN`. Do you see how this can be used to perform a “for loop”?"
   ]
  },
  {
   "cell_type": "markdown",
   "id": "9969ea10",
   "metadata": {
    "hidden": true
   },
   "source": [
    "<span class=\"exo\">Exercise 5/L</span> Reuse the `fold` function to write `filter : 'a list -> ('a -> bool) -> 'a list` such that `filter x f` filters out every element `a` of `x` for which `f a` is false (i.e. only retains those elements `a` for which `f a` is true)."
   ]
  },
  {
   "cell_type": "markdown",
   "id": "52acec73",
   "metadata": {
    "hidden": true
   },
   "source": [
    "<span class=\"exo\">Exercise 5/M</span> Rewrite `nth` using `fold`."
   ]
  },
  {
   "cell_type": "markdown",
   "id": "4d5c1e5b",
   "metadata": {
    "hidden": true
   },
   "source": [
    "<span class=\"exo\">Exercise 5/N</span> Rewrite `mem` using `fold`."
   ]
  },
  {
   "cell_type": "markdown",
   "id": "071f4013",
   "metadata": {
    "hidden": true
   },
   "source": [
    "From these exercises, it should now be clear that `map`, `fold`, and `map2` (and `fold2` which we haven't had time to implement) are very basic primitives from which many useful functions can be derived. We call these <span class=\"emph\">iterators</emph>."
   ]
  },
  {
   "cell_type": "markdown",
   "id": "404bb644",
   "metadata": {
    "hidden": true
   },
   "source": [
    "Time permitting, we will discuss scaling issues typically encountered for recursive functions, and how to avoid these issues by writing so-called <span class=\"emph\">tail recursive</emph> functions."
   ]
  },
  {
   "cell_type": "markdown",
   "id": "systematic-absolute",
   "metadata": {
    "heading_collapsed": true
   },
   "source": [
    "## 6. Utility functions"
   ]
  },
  {
   "cell_type": "markdown",
   "id": "hollow-russell",
   "metadata": {
    "hidden": true
   },
   "source": [
    "Let's write a function that times the execution of a `('a -> 'b) -> 'a -> 'b * float`. "
   ]
  },
  {
   "cell_type": "code",
   "execution_count": null,
   "id": "tropical-auditor",
   "metadata": {
    "hidden": true
   },
   "outputs": [],
   "source": [
    "let timeit f x =\n",
    "  let t0 = Unix.gettimeofday () in\n",
    "  let result = f x in\n",
    "  let t1 = Unix.gettimeofday () in\n",
    "  result, t1 -. t0"
   ]
  },
  {
   "cell_type": "markdown",
   "id": "union-response",
   "metadata": {
    "hidden": true
   },
   "source": [
    "Infix operators:"
   ]
  },
  {
   "cell_type": "markdown",
   "id": "turned-madagascar",
   "metadata": {
    "hidden": true
   },
   "source": [
    "This is how OCaml lets you define your own infix operators: for example, in the standard library, ( * ) is defined as:"
   ]
  },
  {
   "cell_type": "code",
   "execution_count": null,
   "id": "banned-terminal",
   "metadata": {
    "hidden": true
   },
   "outputs": [],
   "source": [
    "let ( * ) x y = Int.mul x y"
   ]
  },
  {
   "cell_type": "code",
   "execution_count": null,
   "id": "academic-portland",
   "metadata": {
    "hidden": true
   },
   "outputs": [],
   "source": [
    "6 * 5"
   ]
  },
  {
   "cell_type": "code",
   "execution_count": null,
   "id": "rental-person",
   "metadata": {
    "hidden": true
   },
   "outputs": [],
   "source": [
    "let ( |> ) x f = f x  (* also already defined in the standard library *)"
   ]
  },
  {
   "cell_type": "code",
   "execution_count": null,
   "id": "three-petite",
   "metadata": {
    "hidden": true
   },
   "outputs": [],
   "source": [
    "[ 2; 3; 4 ]\n",
    "|> map (fun x -> x + 1)\n",
    "|> map (fun x -> x * x)\n",
    "|> fold Int.add 0\n",
    "|> (fun x -> x + 1)\n",
    "|> fun n -> List.init n (fun x -> x + 4)"
   ]
  },
  {
   "cell_type": "code",
   "execution_count": null,
   "id": "italian-radiation",
   "metadata": {
    "hidden": true
   },
   "outputs": [],
   "source": []
  }
 ],
 "metadata": {
  "kernelspec": {
   "display_name": "OCaml 4.14.0",
   "language": "OCaml",
   "name": "ocaml-jupyter"
  },
  "language_info": {
   "codemirror_mode": "text/x-ocaml",
   "file_extension": ".ml",
   "mimetype": "text/x-ocaml",
   "name": "OCaml",
   "nbconverter_exporter": null,
   "pygments_lexer": "OCaml",
   "version": "4.14.0"
  }
 },
 "nbformat": 4,
 "nbformat_minor": 5
}
