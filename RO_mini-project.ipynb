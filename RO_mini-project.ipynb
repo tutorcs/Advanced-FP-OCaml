{
 "cells": [
  {
   "cell_type": "markdown",
   "id": "460e0fa6",
   "metadata": {},
   "source": [
    "# Mini-project: tic-tac-toe"
   ]
  },
  {
   "cell_type": "code",
   "execution_count": null,
   "id": "97d1c8e4",
   "metadata": {},
   "outputs": [],
   "source": [
    "#require \"fp\"\n",
    "\n",
    "open Fp\n",
    "open Project\n",
    "open Gg\n",
    "open Vg\n",
    "open Base"
   ]
  },
  {
   "cell_type": "markdown",
   "id": "cf2fe6b6",
   "metadata": {
    "heading_collapsed": true
   },
   "source": [
    "## Setup"
   ]
  },
  {
   "cell_type": "markdown",
   "id": "square-lexington",
   "metadata": {
    "hidden": true
   },
   "source": [
    "The aim of this project is to code up a simple game: tic-tac-toe.\n",
    "\n",
    "Here is a quick demo of the end result, with `Blue` playing randomly, and `Red` playing optimally:"
   ]
  },
  {
   "cell_type": "code",
   "execution_count": null,
   "id": "accurate-mapping",
   "metadata": {
    "hidden": true
   },
   "outputs": [],
   "source": [
    "let module G = Game (Solutions) in\n",
    "G.demo ()"
   ]
  },
  {
   "cell_type": "markdown",
   "id": "nominated-honey",
   "metadata": {
    "hidden": true
   },
   "source": [
    "In this project, you will progressively implement all the functions which are required to make the game work. These functions involve multiple aspects:\n",
    "- basic manipulation of the data structures involved\n",
    "- graphics\n",
    "- logic of the various algorithms\n",
    "\n",
    "The list of all functions you have to implement can be found at the very end of this notebook. But you will be guided throughout the notebook with detailed instructions for each function.\n",
    "\n",
    "At any point, you can check your solutions by progressively building your own `My_solutions` module, like so:"
   ]
  },
  {
   "cell_type": "code",
   "execution_count": null,
   "id": "egyptian-assembly",
   "metadata": {
    "hidden": true
   },
   "outputs": [],
   "source": [
    "module My_solutions : Project.T = struct\n",
    "  (* include the ready-made solutions... *)\n",
    "  include Solutions\n",
    "\n",
    "  (* ... and shadows some of the solutions with your own solutions, for example: *)\n",
    "  let other_mark = function\n",
    "    | Blue -> Red\n",
    "    | Red -> Blue\n",
    "end"
   ]
  },
  {
   "cell_type": "markdown",
   "id": "uniform-account",
   "metadata": {
    "hidden": true
   },
   "source": [
    "and then test the entire game module, for example by running the following:"
   ]
  },
  {
   "cell_type": "code",
   "execution_count": null,
   "id": "architectural-minutes",
   "metadata": {
    "hidden": true
   },
   "outputs": [],
   "source": [
    "let module G = Game (My_solutions) in\n",
    "let player1 = G.optimal_algorithm Red\n",
    "and player2 = G.me Blue in\n",
    "G.game (player2, player1)"
   ]
  },
  {
   "cell_type": "markdown",
   "id": "experimental-frequency",
   "metadata": {
    "hidden": true
   },
   "source": [
    "Thus, because you have `include Solutions` in module `My_solutions`, you will be able to experiment with the game even if you haven't managed to implement a solution to all functions. In fact, you can also work your way through the various functions in the order that suits you.\n",
    "\n",
    "You can also test each individual function `f` by invoking `Test.test_f`. If your function has the wrong type, the typechecker will complain. If your function has the right type, then a test will be performed and you will be told whether your function “does the right thing”. For example: "
   ]
  },
  {
   "cell_type": "code",
   "execution_count": null,
   "id": "filled-pharmaceutical",
   "metadata": {
    "hidden": true
   },
   "outputs": [],
   "source": [
    "Test.test_other_mark My_solutions.other_mark"
   ]
  },
  {
   "cell_type": "markdown",
   "id": "precious-filter",
   "metadata": {
    "hidden": true
   },
   "source": [
    "<span class=\"emph\">Pro tip:</span>\n",
    "You should make use of autocompletion to check the expected type and the documentation for each function; in a code cell, documentation pops up when you press `Shift+Tab` at the end of an expression. If you continue to hold `Shift` and press `Tab` once more, the pop up will grow to show the documentation for that function. If you continue to hold `Shift` and press `Tab` a third time, that pop up will be sent to the bottom of your browswer and stick there until you decide to close it. Try it! Put your cursor at the end of the word `game` below and try it:"
   ]
  },
  {
   "cell_type": "code",
   "execution_count": null,
   "id": "sought-spank",
   "metadata": {
    "hidden": true
   },
   "outputs": [],
   "source": [
    "Solutions.other_mark"
   ]
  },
  {
   "cell_type": "markdown",
   "id": "resident-richardson",
   "metadata": {
    "heading_collapsed": true
   },
   "source": [
    "## Types and data structures"
   ]
  },
  {
   "cell_type": "markdown",
   "id": "blind-condition",
   "metadata": {
    "hidden": true
   },
   "source": [
    "The game is structured around a couple of simple types, which have been pre-defined for you in module `Project`:\n",
    "\n",
    "```ocaml\n",
    "\n",
    "(* The two players are characterized by their “color” (Red or Blue): *)\n",
    "type mark =\n",
    "  | Red\n",
    "  | Blue\n",
    "\n",
    "(* A 3x3 board configuration is a list of 3 lists (rows), \n",
    "   each with 3 elements.\n",
    "   Each element can be None (empty), or Some mark: *)\n",
    "type board = mark option list list\n",
    "\n",
    "(* The game can end in different ways: *)\n",
    "type outcome =\n",
    "  | Won of mark\n",
    "  | Tie\n",
    "\n",
    "(* The result of evaluating a given board:\n",
    "   the game might have finished already, \n",
    "   or it's unfinished and there is a list of possible next turns.\n",
    "   In principle, Unfinished [] should never occur. *)\n",
    "type evaluation =\n",
    "  | Finished of outcome\n",
    "  | Unfinished of board list\n",
    "\n",
    "(* Type for representing the current state of play. *)\n",
    "type state =\n",
    "  | Playing of board\n",
    "  | Ended of outcome\n",
    "\n",
    "(* A player owns a mark, and has a strategy for playing.\n",
    "   Playing here means analysing the current state, \n",
    "   and returning a new state. *)\n",
    "type player =\n",
    "    { mark : mark\n",
    "    ; play : state -> state\n",
    "    }\n",
    "\n",
    "```"
   ]
  },
  {
   "cell_type": "markdown",
   "id": "sharp-defense",
   "metadata": {
    "heading_collapsed": true
   },
   "source": [
    "## List of functions to be implemented"
   ]
  },
  {
   "cell_type": "markdown",
   "id": "liable-campbell",
   "metadata": {
    "hidden": true
   },
   "source": [
    "Below is a list of all the functions you need to implement in this project. The documentation of each function is available by writing `Solutions.name_of_the_function` and then pressing `Shift+Tab`. If you hold `Shift` and press `Tab` three times, the documentation pop-up will be moved to the bottom of your window and will stick there until you decide to close it."
   ]
  },
  {
   "cell_type": "code",
   "execution_count": null,
   "id": "disabled-wales",
   "metadata": {
    "hidden": true
   },
   "outputs": [],
   "source": [
    "#show_module_type Fp__Project.T"
   ]
  },
  {
   "cell_type": "markdown",
   "id": "ab8e990a",
   "metadata": {
    "heading_collapsed": true
   },
   "source": [
    "## Bonus questions"
   ]
  },
  {
   "cell_type": "markdown",
   "id": "73c679e1",
   "metadata": {
    "heading_collapsed": true,
    "hidden": true
   },
   "source": [
    "#### Bonus question 1\n",
    "\n",
    "Right now, when it plays against a sub-optimal algorithm, the\n",
    "optimal algorithm makes seemingly odd choices: when it knows it's certain to\n",
    "win in the future, it does not necessarily choose to win quickly. Rather it\n",
    "lets the opponent die a slow death :) Can you fix this?\n",
    " \n",
    "\n",
    "#### Bonus question 2\n",
    "\n",
    "Right now, the algorithm always make the same choices in any configuration,\n",
    "even though there might be several options with identical values. Introduce\n",
    "randomness into the algorithm.\n",
    " \n",
    "\n",
    "#### Bonus question 3\n",
    "\n",
    "The algorithm we have implemented scales very poorly with the the size of\n",
    "board: indeed our value function can't handle a 4x4 board. Do a bit of research\n",
    "and implement so-called “alpha/beta pruning” to fix this."
   ]
  },
  {
   "cell_type": "markdown",
   "id": "invalid-tower",
   "metadata": {
    "heading_collapsed": true
   },
   "source": [
    "## Final presentations"
   ]
  },
  {
   "cell_type": "markdown",
   "id": "welsh-lodge",
   "metadata": {
    "hidden": true
   },
   "source": [
    "**Each group to give a 20 min presentation**\n",
    "\n",
    "- Every member of the group must present a part (everyone must participate)\n",
    "- I am going to assess:\n",
    "    - quality of the work (correctness of solutions, OCaml writing style, efficiency of code)\n",
    "    - quantity (how much have you been able to do, potential Bonus questions)\n",
    "    - Q&A (be prepared to answer some of my questions)\n",
    "    - clarity of presentation\n",
    "    \n",
    "The presentation has no particular forced structure. Use your own imagination / carefully think through what the best presentation format is, given that you must convey the following:\n",
    "- you need to give me enough information that I can assess the bullet points above\n",
    "- tell me what you have enjoyed, what you have learned from the course\n"
   ]
  },
  {
   "cell_type": "code",
   "execution_count": null,
   "id": "31d782f2",
   "metadata": {
    "hidden": true
   },
   "outputs": [],
   "source": []
  }
 ],
 "metadata": {
  "kernelspec": {
   "display_name": "OCaml 4.14.0",
   "language": "OCaml",
   "name": "ocaml-jupyter"
  },
  "language_info": {
   "codemirror_mode": "text/x-ocaml",
   "file_extension": ".ml",
   "mimetype": "text/x-ocaml",
   "name": "OCaml",
   "nbconverter_exporter": null,
   "pygments_lexer": "OCaml",
   "version": "4.14.0"
  }
 },
 "nbformat": 4,
 "nbformat_minor": 5
}
